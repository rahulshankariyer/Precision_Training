{
 "cells": [
  {
   "cell_type": "code",
   "execution_count": 1,
   "id": "6c845aaf",
   "metadata": {},
   "outputs": [],
   "source": [
    "#Program to swap values in integer variables"
   ]
  },
  {
   "cell_type": "code",
   "execution_count": 2,
   "id": "5dda7281",
   "metadata": {},
   "outputs": [
    {
     "data": {
      "text/plain": [
       "(100, 200)"
      ]
     },
     "execution_count": 2,
     "metadata": {},
     "output_type": "execute_result"
    }
   ],
   "source": [
    "#Let us take two values, a and b\n",
    "\n",
    "a = 100\n",
    "b = 200\n",
    "\n",
    "(a,b)"
   ]
  },
  {
   "cell_type": "code",
   "execution_count": 3,
   "id": "36069736",
   "metadata": {},
   "outputs": [
    {
     "data": {
      "text/plain": [
       "(200, 100)"
      ]
     },
     "execution_count": 3,
     "metadata": {},
     "output_type": "execute_result"
    }
   ],
   "source": [
    "#Swapping values using a 3rd variable, say temp\n",
    "\n",
    "temp = a\n",
    "a = b\n",
    "b = temp\n",
    "\n",
    "(a,b)"
   ]
  },
  {
   "cell_type": "code",
   "execution_count": 4,
   "id": "57f3d142",
   "metadata": {},
   "outputs": [
    {
     "data": {
      "text/plain": [
       "(200, 100)"
      ]
     },
     "execution_count": 4,
     "metadata": {},
     "output_type": "execute_result"
    }
   ],
   "source": [
    "#Swapping values without using a 3rd variable\n",
    "\n",
    "a = 100\n",
    "b = 200\n",
    "\n",
    "b = b + a\n",
    "a = b - a\n",
    "b = b - a\n",
    "\n",
    "(a,b)"
   ]
  },
  {
   "cell_type": "code",
   "execution_count": null,
   "id": "e3538f53",
   "metadata": {},
   "outputs": [],
   "source": []
  }
 ],
 "metadata": {
  "kernelspec": {
   "display_name": "Python 3 (ipykernel)",
   "language": "python",
   "name": "python3"
  },
  "language_info": {
   "codemirror_mode": {
    "name": "ipython",
    "version": 3
   },
   "file_extension": ".py",
   "mimetype": "text/x-python",
   "name": "python",
   "nbconvert_exporter": "python",
   "pygments_lexer": "ipython3",
   "version": "3.9.13"
  }
 },
 "nbformat": 4,
 "nbformat_minor": 5
}
