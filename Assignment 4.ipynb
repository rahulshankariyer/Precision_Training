{
 "cells": [
  {
   "cell_type": "code",
   "execution_count": 1,
   "id": "2212de16",
   "metadata": {},
   "outputs": [],
   "source": [
    "#Program to find domain name from email id"
   ]
  },
  {
   "cell_type": "code",
   "execution_count": 7,
   "id": "0e418436",
   "metadata": {},
   "outputs": [],
   "source": [
    "#Take 3 strings, sat a,b and c\n",
    "\n",
    "a = 'rahulsiyer12@gmail.com'\n",
    "b = 'rahulshankariyer@microsoft.com'\n",
    "c = 'rahul.iyer01@yahoo.com'"
   ]
  },
  {
   "cell_type": "code",
   "execution_count": 8,
   "id": "f1a94ab2",
   "metadata": {},
   "outputs": [
    {
     "data": {
      "text/plain": [
       "(12, 16, 12)"
      ]
     },
     "execution_count": 8,
     "metadata": {},
     "output_type": "execute_result"
    }
   ],
   "source": [
    "#The domain name follows the @ symbol, so we must find the postion of @ in each string\n",
    "\n",
    "pos1 = a.find('@')\n",
    "pos2 = b.find('@')\n",
    "pos3 = c.find('@')\n",
    "\n",
    "(pos1,pos2,pos3)"
   ]
  },
  {
   "cell_type": "code",
   "execution_count": 9,
   "id": "8dba1db2",
   "metadata": {},
   "outputs": [
    {
     "data": {
      "text/plain": [
       "('@gmail.com', '@microsoft.com', '@yahoo.com')"
      ]
     },
     "execution_count": 9,
     "metadata": {},
     "output_type": "execute_result"
    }
   ],
   "source": [
    "#Now that we have the position of @, we can cut out the portion of the email id before the @ symbol\n",
    "\n",
    "a = a[pos1:]\n",
    "b = b[pos2:]\n",
    "c = c[pos3:]\n",
    "\n",
    "(a,b,c)"
   ]
  },
  {
   "cell_type": "code",
   "execution_count": 10,
   "id": "7de04e85",
   "metadata": {},
   "outputs": [
    {
     "data": {
      "text/plain": [
       "(6, 10, 6)"
      ]
     },
     "execution_count": 10,
     "metadata": {},
     "output_type": "execute_result"
    }
   ],
   "source": [
    "#The domain name is the part of the email id before the . character, so we must find the postions of the . character\n",
    "\n",
    "pos1 = a.find('.')\n",
    "pos2 = b.find('.')\n",
    "pos3 = c.find('.')\n",
    "\n",
    "(pos1,pos2,pos3)"
   ]
  },
  {
   "cell_type": "code",
   "execution_count": 11,
   "id": "f12cd4cb",
   "metadata": {},
   "outputs": [
    {
     "data": {
      "text/plain": [
       "('gmail', 'microsoft', 'yahoo')"
      ]
     },
     "execution_count": 11,
     "metadata": {},
     "output_type": "execute_result"
    }
   ],
   "source": [
    "#Now that we have the position of ., we can cut out the portion of the email id after the . symbol, giving us only the domain name\n",
    "\n",
    "a = a[1:pos1]\n",
    "b = b[1:pos2]\n",
    "c = c[1:pos3]\n",
    "\n",
    "(a,b,c)"
   ]
  },
  {
   "cell_type": "code",
   "execution_count": null,
   "id": "b1637be5",
   "metadata": {},
   "outputs": [],
   "source": []
  }
 ],
 "metadata": {
  "kernelspec": {
   "display_name": "Python 3 (ipykernel)",
   "language": "python",
   "name": "python3"
  },
  "language_info": {
   "codemirror_mode": {
    "name": "ipython",
    "version": 3
   },
   "file_extension": ".py",
   "mimetype": "text/x-python",
   "name": "python",
   "nbconvert_exporter": "python",
   "pygments_lexer": "ipython3",
   "version": "3.9.13"
  }
 },
 "nbformat": 4,
 "nbformat_minor": 5
}
