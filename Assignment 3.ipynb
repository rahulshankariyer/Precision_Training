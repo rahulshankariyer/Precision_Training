{
 "cells": [
  {
   "cell_type": "code",
   "execution_count": 1,
   "id": "5e6842a1",
   "metadata": {},
   "outputs": [],
   "source": [
    "#Program to swap values in string variables"
   ]
  },
  {
   "cell_type": "code",
   "execution_count": 2,
   "id": "d1ce5740",
   "metadata": {},
   "outputs": [
    {
     "data": {
      "text/plain": [
       "('USA', 'India')"
      ]
     },
     "execution_count": 2,
     "metadata": {},
     "output_type": "execute_result"
    }
   ],
   "source": [
    "#Let us take two values, a and b\n",
    "\n",
    "a = 'USA'\n",
    "b = 'India'\n",
    "\n",
    "(a,b)"
   ]
  },
  {
   "cell_type": "code",
   "execution_count": 3,
   "id": "5730ce64",
   "metadata": {},
   "outputs": [
    {
     "data": {
      "text/plain": [
       "('India', 'USA')"
      ]
     },
     "execution_count": 3,
     "metadata": {},
     "output_type": "execute_result"
    }
   ],
   "source": [
    "#Swapping values using a 3rd variable, say temp\n",
    "\n",
    "temp = a\n",
    "a = b\n",
    "b = temp\n",
    "\n",
    "(a,b)"
   ]
  },
  {
   "cell_type": "code",
   "execution_count": 7,
   "id": "e76fe8cb",
   "metadata": {},
   "outputs": [
    {
     "data": {
      "text/plain": [
       "('India', 'USA')"
      ]
     },
     "execution_count": 7,
     "metadata": {},
     "output_type": "execute_result"
    }
   ],
   "source": [
    "#Swapping values without using a 3rd variable\n",
    "\n",
    "a = 'USA'\n",
    "b = 'India'\n",
    "\n",
    "b = b + a\n",
    "a = b.rstrip(a)\n",
    "b = b.lstrip(a)\n",
    "\n",
    "(a,b)"
   ]
  },
  {
   "cell_type": "code",
   "execution_count": null,
   "id": "abc9e4b9",
   "metadata": {},
   "outputs": [],
   "source": []
  }
 ],
 "metadata": {
  "kernelspec": {
   "display_name": "Python 3 (ipykernel)",
   "language": "python",
   "name": "python3"
  },
  "language_info": {
   "codemirror_mode": {
    "name": "ipython",
    "version": 3
   },
   "file_extension": ".py",
   "mimetype": "text/x-python",
   "name": "python",
   "nbconvert_exporter": "python",
   "pygments_lexer": "ipython3",
   "version": "3.9.13"
  }
 },
 "nbformat": 4,
 "nbformat_minor": 5
}
